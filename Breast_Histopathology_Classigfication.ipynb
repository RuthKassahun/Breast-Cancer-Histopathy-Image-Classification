{
  "nbformat": 4,
  "nbformat_minor": 0,
  "metadata": {
    "colab": {
      "name": "Breast Histopathology Classigfication.ipynb",
      "provenance": [],
      "collapsed_sections": [],
      "include_colab_link": true
    },
    "kernelspec": {
      "name": "python3",
      "display_name": "Python 3"
    },
    "language_info": {
      "name": "python"
    }
  },
  "cells": [
    {
      "cell_type": "markdown",
      "metadata": {
        "id": "view-in-github",
        "colab_type": "text"
      },
      "source": [
        "<a href=\"https://colab.research.google.com/github/RuthKassahun/Breast-Cancer-Histopathy-Image-Classification/blob/main/Breast_Histopathology_Classigfication.ipynb\" target=\"_parent\"><img src=\"https://colab.research.google.com/assets/colab-badge.svg\" alt=\"Open In Colab\"/></a>"
      ]
    },
    {
      "cell_type": "code",
      "source": [
        "import numpy as np\n",
        "import pandas as pd\n",
        "import matplotlib.pyplot as plt\n",
        "import seaborn as sns\n",
        "import os\n",
        "from pathlib import Path\n",
        "from PIL import Image, ImageOps\n",
        "from sklearn.preprocessing import LabelEncoder, StandardScaler\n",
        "from sklearn import metrics\n",
        "from sklearn.svm import SVC, LinearSVC\n",
        "from sklearn.model_selection import GridSearchCV, StratifiedKFold\n",
        "from sklearn.pipeline import Pipeline\n",
        "from skimage.feature import local_binary_pattern"
      ],
      "metadata": {
        "id": "pJtYyT6Pwv3y"
      },
      "execution_count": null,
      "outputs": []
    },
    {
      "cell_type": "code",
      "execution_count": 2,
      "metadata": {
        "colab": {
          "base_uri": "https://localhost:8080/"
        },
        "id": "5bYCBkviwJKn",
        "outputId": "8aa2fe39-0ea6-4a5d-c980-039985a0f987"
      },
      "outputs": [
        {
          "output_type": "stream",
          "name": "stdout",
          "text": [
            "Mounted at /gdrive\n"
          ]
        }
      ],
      "source": [
        "from google.colab import drive\n",
        "drive.mount('/gdrive', force_remount=True)"
      ]
    },
    {
      "cell_type": "code",
      "source": [
        "image_dir=\"/content/drive/MyDrive/BreakHis_Splitted\""
      ],
      "metadata": {
        "id": "ufGB8l_f1uTU"
      },
      "execution_count": 15,
      "outputs": []
    },
    {
      "cell_type": "code",
      "source": [
        "# let's load our google drive\n",
        "from google.colab import drive\n",
        "\n",
        "# This will prompt for authorization.\n",
        "drive.mount('/content/drive')\n",
        "# Define the root data directory\n",
        "DATA_DIR = \"/content/drive/MyDrive/BreakHis_Splitted\"\n",
        "\n",
        "!ls $DATA_DIR"
      ],
      "metadata": {
        "colab": {
          "base_uri": "https://localhost:8080/"
        },
        "id": "aSiHr4SKSt_H",
        "outputId": "2da1cd03-ab7f-4dfb-efa3-add6f4d2fec9"
      },
      "execution_count": 16,
      "outputs": [
        {
          "output_type": "stream",
          "name": "stdout",
          "text": [
            "Drive already mounted at /content/drive; to attempt to forcibly remount, call drive.mount(\"/content/drive\", force_remount=True).\n",
            "test  train\n"
          ]
        }
      ]
    },
    {
      "cell_type": "markdown",
      "source": [
        "### **Local Binary Patterns**"
      ],
      "metadata": {
        "id": "kv82zTLx0xpK"
      }
    },
    {
      "cell_type": "code",
      "source": [
        "def compute_lbp(arr):\n",
        "  \"\"\" Find LBP of all pixels.\n",
        "  Also perform vectorization/normalization to get feature vector\n",
        "  \"\"\"\n",
        "  # LBP function params\n",
        "  radius = 3\n",
        "  n_points = 8 * radius\n",
        "  n_bins = n_points + 2\n",
        "  lbp = local_binary_pattern(arr,n_points,radius,'uniform')\n",
        "  lbp = lbp.ravel()\n",
        "  #feature_len = int (lbp.max() + 1)\n",
        "  feature = np.zeros(n_bins)\n",
        "  for i in lbp:\n",
        "    feature[int(i)] += 1 # Feature\n",
        "  feature /= np.linalg.norm(feature, ord=1) # Normalizing feature\n",
        "  return feature"
      ],
      "metadata": {
        "id": "raZ06eag0xNX"
      },
      "execution_count": 17,
      "outputs": []
    },
    {
      "cell_type": "markdown",
      "source": [
        "### **Checking File Structure**"
      ],
      "metadata": {
        "id": "T-nIZV461dYk"
      }
    },
    {
      "cell_type": "code",
      "source": [
        "tag = 'train'\n",
        "tag_dir = os.path.join(DATA_DIR, tag) # string\n",
        "tag_dir"
      ],
      "metadata": {
        "colab": {
          "base_uri": "https://localhost:8080/",
          "height": 35
        },
        "id": "ZUL_0upC_NHa",
        "outputId": "5c6997bf-de41-4b2a-e8f1-76fcbcb701c4"
      },
      "execution_count": 18,
      "outputs": [
        {
          "output_type": "execute_result",
          "data": {
            "text/plain": [
              "'/content/drive/MyDrive/BreakHis_Splitted/train'"
            ],
            "application/vnd.google.colaboratory.intrinsic+json": {
              "type": "string"
            }
          },
          "metadata": {},
          "execution_count": 18
        }
      ]
    },
    {
      "cell_type": "code",
      "source": [
        "tag_path = Path(tag_dir)\n",
        "for cat_dir in tag_path.iterdir():\n",
        "    cat_label = cat_dir.stem\n",
        "    print(cat_label)\n",
        "    sub_dir = os.path.join(tag_dir,cat_label)\n",
        "    print(sub_dir)\n",
        "    sub_path = Path(sub_dir)\n",
        "    for inner_dir in sub_path.iterdir():\n",
        "      inner_label = inner_dir.stem\n",
        "      print(inner_label)"
      ],
      "metadata": {
        "colab": {
          "base_uri": "https://localhost:8080/"
        },
        "id": "pWFOHkvBAdpo",
        "outputId": "2b9f62cc-e642-4a41-babc-1db4be130a33"
      },
      "execution_count": 19,
      "outputs": [
        {
          "output_type": "stream",
          "name": "stdout",
          "text": [
            "malignant\n",
            "/content/drive/MyDrive/BreakHis_Splitted/train/malignant\n",
            "papillary_carcinoma\n",
            "ductal_carcinoma\n",
            "lobular_carcinoma\n",
            "mucinous_carcinoma\n",
            "benign\n",
            "/content/drive/MyDrive/BreakHis_Splitted/train/benign\n",
            "tubular_adenoma\n",
            "phyllodes_tumor\n",
            "adenosis\n",
            "fibroadenoma\n"
          ]
        }
      ]
    },
    {
      "cell_type": "markdown",
      "source": [
        "### **Load Data**"
      ],
      "metadata": {
        "id": "pzo8OoZX2cOs"
      }
    },
    {
      "cell_type": "code",
      "source": [
        "def load_data(tag='train'):\n",
        "  tag_dir = os.path.join(image_dir, tag)\n",
        "  tag_path = Path(tag_dir)\n",
        "  vec = [] # Vector\n",
        "  cat = [] # Category\n",
        "  for cat_dir in tag_path.iterdir():  \n",
        "    cat_label = cat_dir.stem\n",
        "    print(\"*\",cat_label)\n",
        "    for inner_dir in cat_dir.iterdir():\n",
        "      inner_label = inner_dir.stem\n",
        "      print(inner_label)\n",
        "      for img_path in inner_dir.glob('*.png'):\n",
        "        img = Image.open(img_path.as_posix()) #as_posix returns literally the absolute path\n",
        "        if img.mode != 'L':\n",
        "          img = ImageOps.grayscale(img)\n",
        "          #img.save(img_path.as_posix()) # save it\n",
        "        arr = np.array(img) # convert the image to numpy array\n",
        "        feature = compute_lbp(arr)\n",
        "        vec.append(feature) # append the feature to the data\n",
        "        cat.append(cat_label) # append the label to the category\n",
        "  return vec, cat # return lbp data and category"
      ],
      "metadata": {
        "id": "PooTLwFVBVSI"
      },
      "execution_count": 20,
      "outputs": []
    },
    {
      "cell_type": "code",
      "source": [
        "# train images\n",
        "vec_train, cat_train = load_data('train')\n",
        "# test images\n",
        "vec_test, cat_test   = load_data('test')"
      ],
      "metadata": {
        "colab": {
          "base_uri": "https://localhost:8080/"
        },
        "id": "L7X2Bt99SC4v",
        "outputId": "1bd9e31f-3234-4165-a9f7-a3c7cc571362"
      },
      "execution_count": 21,
      "outputs": [
        {
          "output_type": "stream",
          "name": "stdout",
          "text": [
            "* malignant\n",
            "papillary_carcinoma\n",
            "ductal_carcinoma\n",
            "lobular_carcinoma\n",
            "mucinous_carcinoma\n",
            "* benign\n",
            "tubular_adenoma\n",
            "phyllodes_tumor\n",
            "adenosis\n",
            "fibroadenoma\n",
            "* malignant\n",
            "papillary_carcinoma\n",
            "mucinous_carcinoma\n",
            "ductal_carcinoma\n",
            "lobular_carcinoma\n",
            "* benign\n",
            "phyllodes_tumor\n",
            "tubular_adenoma\n",
            "adenosis\n",
            "fibroadenoma\n"
          ]
        }
      ]
    },
    {
      "cell_type": "markdown",
      "source": [
        "### **List the Categories**"
      ],
      "metadata": {
        "id": "nOVjJgQD5yUt"
      }
    },
    {
      "cell_type": "code",
      "source": [
        "# Get unique categories\n",
        "labels = list(np.unique(np.array(cat_train))) # convert categories to the numpy array and get unique values\n",
        "labels"
      ],
      "metadata": {
        "colab": {
          "base_uri": "https://localhost:8080/"
        },
        "id": "5BRd5-6b5-nk",
        "outputId": "6a8c2a9d-00b6-48e0-8136-f072da6f1a5b"
      },
      "execution_count": 22,
      "outputs": [
        {
          "output_type": "execute_result",
          "data": {
            "text/plain": [
              "['benign', 'malignant']"
            ]
          },
          "metadata": {},
          "execution_count": 22
        }
      ]
    },
    {
      "cell_type": "code",
      "source": [
        "labels = list(np.unique(np.array(cat_test))) # convert categories to the numpy array and get unique values\n",
        "labels"
      ],
      "metadata": {
        "colab": {
          "base_uri": "https://localhost:8080/"
        },
        "id": "okciCPKu5_rO",
        "outputId": "1a4aa35d-2a7b-4f32-b7f5-b27b7e0caa78"
      },
      "execution_count": 23,
      "outputs": [
        {
          "output_type": "execute_result",
          "data": {
            "text/plain": [
              "['benign', 'malignant']"
            ]
          },
          "metadata": {},
          "execution_count": 23
        }
      ]
    },
    {
      "cell_type": "markdown",
      "source": [
        "### **Label Encoding**"
      ],
      "metadata": {
        "id": "gtHy9GYzYJWx"
      }
    },
    {
      "cell_type": "code",
      "source": [
        "le = LabelEncoder()\n",
        "label_train = le.fit_transform(cat_train) # Here fit is used to assign may be 0, 1, or 2\n",
        "label_test = le.transform(cat_test) # Only transform is used since the fit is already done above"
      ],
      "metadata": {
        "id": "lk5giEJ6YSdE"
      },
      "execution_count": 24,
      "outputs": []
    },
    {
      "cell_type": "code",
      "source": [
        "label_train"
      ],
      "metadata": {
        "colab": {
          "base_uri": "https://localhost:8080/"
        },
        "id": "0qQmLhPiZ7BB",
        "outputId": "07c94fd6-3a6a-4d8c-f6fc-fce8851974dc"
      },
      "execution_count": 25,
      "outputs": [
        {
          "output_type": "execute_result",
          "data": {
            "text/plain": [
              "array([1, 1, 1, ..., 0, 0, 0])"
            ]
          },
          "metadata": {},
          "execution_count": 25
        }
      ]
    },
    {
      "cell_type": "code",
      "source": [
        "label_test"
      ],
      "metadata": {
        "colab": {
          "base_uri": "https://localhost:8080/"
        },
        "id": "EFFu0yMvZ7jV",
        "outputId": "91779a84-e6cc-4948-c39e-7b56dfbbb432"
      },
      "execution_count": 26,
      "outputs": [
        {
          "output_type": "execute_result",
          "data": {
            "text/plain": [
              "array([1, 1, 1, 1, 1, 1, 1, 1, 1, 1, 1, 1, 1, 1, 1, 1, 1, 1, 1, 1, 1, 1,\n",
              "       1, 1, 1, 1, 1, 1, 1, 1, 1, 1, 1, 1, 1, 1, 1, 1, 1, 1, 1, 1, 1, 1,\n",
              "       1, 1, 1, 1, 1, 1, 1, 1, 1, 1, 1, 1, 1, 1, 1, 1, 1, 1, 1, 1, 1, 1,\n",
              "       1, 1, 1, 1, 1, 1, 1, 1, 1, 1, 1, 1, 1, 1, 1, 1, 1, 1, 1, 1, 1, 1,\n",
              "       1, 1, 1, 1, 1, 1, 1, 1, 1, 1, 1, 1, 1, 1, 1, 1, 1, 1, 1, 1, 1, 1,\n",
              "       1, 1, 1, 1, 1, 1, 1, 1, 1, 1, 1, 1, 1, 1, 1, 1, 1, 1, 1, 1, 1, 1,\n",
              "       1, 1, 1, 1, 1, 1, 1, 1, 1, 1, 1, 1, 1, 1, 1, 1, 1, 1, 1, 1, 1, 1,\n",
              "       1, 1, 1, 1, 1, 1, 1, 1, 1, 1, 1, 1, 1, 1, 1, 1, 1, 1, 1, 1, 1, 1,\n",
              "       1, 1, 1, 1, 1, 1, 1, 1, 1, 1, 1, 1, 1, 1, 1, 1, 1, 1, 1, 1, 1, 1,\n",
              "       1, 1, 1, 1, 1, 1, 1, 1, 1, 1, 1, 1, 1, 1, 1, 1, 1, 1, 1, 1, 1, 1,\n",
              "       1, 1, 1, 1, 1, 1, 1, 1, 1, 1, 1, 1, 1, 1, 1, 1, 1, 1, 1, 1, 1, 1,\n",
              "       1, 1, 1, 1, 1, 1, 1, 1, 1, 1, 1, 1, 1, 1, 1, 1, 1, 1, 1, 1, 1, 1,\n",
              "       1, 1, 1, 1, 1, 1, 1, 1, 1, 1, 1, 1, 1, 1, 1, 1, 1, 1, 1, 1, 1, 1,\n",
              "       1, 1, 1, 1, 1, 1, 1, 1, 1, 1, 1, 1, 1, 1, 1, 1, 1, 1, 1, 1, 1, 1,\n",
              "       1, 1, 1, 1, 1, 1, 1, 1, 1, 1, 1, 1, 1, 1, 1, 1, 1, 1, 1, 1, 1, 1,\n",
              "       1, 1, 1, 1, 1, 1, 1, 1, 1, 1, 1, 1, 1, 1, 1, 1, 1, 1, 1, 1, 1, 1,\n",
              "       1, 1, 1, 1, 1, 1, 1, 1, 1, 1, 1, 1, 1, 1, 1, 1, 1, 1, 1, 1, 1, 1,\n",
              "       1, 1, 1, 1, 1, 1, 1, 1, 1, 1, 1, 1, 1, 1, 1, 1, 1, 1, 1, 1, 1, 1,\n",
              "       1, 1, 1, 1, 1, 1, 1, 1, 1, 1, 1, 1, 1, 1, 1, 1, 1, 0, 0, 0, 0, 0,\n",
              "       0, 0, 0, 0, 0, 0, 0, 0, 0, 0, 0, 0, 0, 0, 0, 0, 0, 0, 0, 0, 0, 0,\n",
              "       0, 0, 0, 0, 0, 0, 0, 0, 0, 0, 0, 0, 0, 0, 0, 0, 0, 0, 0, 0, 0, 0,\n",
              "       0, 0, 0, 0, 0, 0, 0, 0, 0, 0, 0, 0, 0, 0, 0, 0, 0, 0, 0, 0, 0, 0,\n",
              "       0, 0, 0, 0, 0, 0, 0, 0, 0, 0, 0, 0, 0, 0, 0, 0, 0, 0, 0, 0, 0, 0,\n",
              "       0, 0, 0, 0, 0, 0, 0, 0, 0, 0, 0, 0, 0, 0, 0, 0, 0, 0, 0, 0, 0, 0,\n",
              "       0, 0, 0, 0, 0, 0, 0, 0, 0, 0, 0, 0, 0, 0, 0, 0, 0, 0, 0, 0, 0, 0,\n",
              "       0, 0, 0, 0, 0, 0, 0, 0, 0, 0, 0, 0, 0, 0, 0, 0, 0, 0, 0, 0, 0, 0,\n",
              "       0, 0, 0, 0, 0, 0, 0, 0, 0, 0, 0, 0, 0, 0, 0, 0, 0, 0, 0, 0, 0, 0,\n",
              "       0, 0, 0, 0, 0, 0, 0, 0])"
            ]
          },
          "metadata": {},
          "execution_count": 26
        }
      ]
    },
    {
      "cell_type": "markdown",
      "source": [
        "### **SVM Fit**"
      ],
      "metadata": {
        "id": "ZEVZEQQhaHzu"
      }
    },
    {
      "cell_type": "code",
      "source": [
        "clf = LinearSVC(random_state=0, tol=1e-5) #Linear svm with tolerance of 1e-5\n",
        "clf.fit(vec_train, label_train) # Features and labels"
      ],
      "metadata": {
        "colab": {
          "base_uri": "https://localhost:8080/"
        },
        "id": "6mnbvls_bQ4l",
        "outputId": "75ae8a71-93a3-4b51-9171-f83d40f57f39"
      },
      "execution_count": 27,
      "outputs": [
        {
          "output_type": "execute_result",
          "data": {
            "text/plain": [
              "LinearSVC(random_state=0, tol=1e-05)"
            ]
          },
          "metadata": {},
          "execution_count": 27
        }
      ]
    },
    {
      "cell_type": "code",
      "source": [
        ""
      ],
      "metadata": {
        "id": "0xVgKeDuVLO7"
      },
      "execution_count": null,
      "outputs": []
    },
    {
      "cell_type": "markdown",
      "source": [
        "### **Evaluation**"
      ],
      "metadata": {
        "id": "UYKxz4BUb07i"
      }
    },
    {
      "cell_type": "code",
      "source": [
        "# Test set evaluation\n",
        "prediction = clf.predict(vec_test)\n",
        "# Visualization\n",
        "cmat = metrics.confusion_matrix(prediction,label_test)\n",
        "s = sns.heatmap(cmat,annot=True,xticklabels=labels, yticklabels=labels)\n",
        "s.set(xlabel='Predicted', ylabel='Actual')\n",
        "acc = cmat.trace() / cmat.sum()\n",
        "print('Accuracy: {0:5.2f}%'.format(acc*100))"
      ],
      "metadata": {
        "colab": {
          "base_uri": "https://localhost:8080/",
          "height": 299
        },
        "id": "1lMvwTc4b5JJ",
        "outputId": "bbdee3fb-b222-4412-8b0e-020b54f95d26"
      },
      "execution_count": 28,
      "outputs": [
        {
          "output_type": "stream",
          "name": "stdout",
          "text": [
            "Accuracy: 71.59%\n"
          ]
        },
        {
          "output_type": "display_data",
          "data": {
            "text/plain": [
              "<Figure size 432x288 with 2 Axes>"
            ],
            "image/png": "[encoded data removed]"
          },
          "metadata": {
            "needs_background": "light"
          }
        }
      ]
    }
  ]
}